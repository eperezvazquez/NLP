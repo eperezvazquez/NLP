{
 "cells": [
  {
   "cell_type": "code",
   "execution_count": 47,
   "metadata": {},
   "outputs": [
    {
     "name": "stdout",
     "output_type": "stream",
     "text": [
      "Requirement already satisfied: text_preprocessing in /home/gitpod/.pyenv/versions/3.8.13/lib/python3.8/site-packages (0.1.0)\n",
      "Requirement already satisfied: nltk in /home/gitpod/.pyenv/versions/3.8.13/lib/python3.8/site-packages (from text_preprocessing) (3.7)\n",
      "Requirement already satisfied: names-dataset in /home/gitpod/.pyenv/versions/3.8.13/lib/python3.8/site-packages (from text_preprocessing) (3.1.0)\n",
      "Requirement already satisfied: unittest-xml-reporting in /home/gitpod/.pyenv/versions/3.8.13/lib/python3.8/site-packages (from text_preprocessing) (3.2.0)\n",
      "Requirement already satisfied: pyspellchecker in /home/gitpod/.pyenv/versions/3.8.13/lib/python3.8/site-packages (from text_preprocessing) (0.6.3)\n",
      "Requirement already satisfied: contractions in /home/gitpod/.pyenv/versions/3.8.13/lib/python3.8/site-packages (from text_preprocessing) (0.1.72)\n",
      "Requirement already satisfied: textsearch>=0.0.21 in /home/gitpod/.pyenv/versions/3.8.13/lib/python3.8/site-packages (from contractions->text_preprocessing) (0.0.21)\n",
      "Requirement already satisfied: pycountry in /home/gitpod/.pyenv/versions/3.8.13/lib/python3.8/site-packages (from names-dataset->text_preprocessing) (22.3.5)\n",
      "Requirement already satisfied: regex>=2021.8.3 in /home/gitpod/.pyenv/versions/3.8.13/lib/python3.8/site-packages (from nltk->text_preprocessing) (2022.7.25)\n",
      "Requirement already satisfied: joblib in /home/gitpod/.pyenv/versions/3.8.13/lib/python3.8/site-packages (from nltk->text_preprocessing) (1.1.0)\n",
      "Requirement already satisfied: tqdm in /home/gitpod/.pyenv/versions/3.8.13/lib/python3.8/site-packages (from nltk->text_preprocessing) (4.64.0)\n",
      "Requirement already satisfied: click in /home/gitpod/.pyenv/versions/3.8.13/lib/python3.8/site-packages (from nltk->text_preprocessing) (8.1.3)\n",
      "Requirement already satisfied: lxml in /home/gitpod/.pyenv/versions/3.8.13/lib/python3.8/site-packages (from unittest-xml-reporting->text_preprocessing) (4.9.1)\n",
      "Requirement already satisfied: pyahocorasick in /home/gitpod/.pyenv/versions/3.8.13/lib/python3.8/site-packages (from textsearch>=0.0.21->contractions->text_preprocessing) (1.4.4)\n",
      "Requirement already satisfied: anyascii in /home/gitpod/.pyenv/versions/3.8.13/lib/python3.8/site-packages (from textsearch>=0.0.21->contractions->text_preprocessing) (0.3.1)\n",
      "Requirement already satisfied: setuptools in /home/gitpod/.pyenv/versions/3.8.13/lib/python3.8/site-packages (from pycountry->names-dataset->text_preprocessing) (63.2.0)\n",
      "\n",
      "\u001b[1m[\u001b[0m\u001b[34;49mnotice\u001b[0m\u001b[1;39;49m]\u001b[0m\u001b[39;49m A new release of pip available: \u001b[0m\u001b[31;49m22.1.2\u001b[0m\u001b[39;49m -> \u001b[0m\u001b[32;49m22.2\u001b[0m\n",
      "\u001b[1m[\u001b[0m\u001b[34;49mnotice\u001b[0m\u001b[1;39;49m]\u001b[0m\u001b[39;49m To update, run: \u001b[0m\u001b[32;49mpip install --upgrade pip\u001b[0m\n"
     ]
    }
   ],
   "source": [
    "#!pip install pandas\n",
    "#!pip install matplotlib\n",
    "#!pip install seaborn\n",
    "#!pip install nltk\n",
    "#!pip install wordcloud\n",
    "#!pip install sklearn\n",
    "#pip install text_preprocessing"
   ]
  },
  {
   "cell_type": "code",
   "execution_count": 48,
   "metadata": {},
   "outputs": [],
   "source": [
    "# Step 0. Load libraries and custom modules\n",
    "# Dataframes and matrices ----------------------------------------------\n",
    "import pandas as pd\n",
    "import numpy as np\n",
    "# Graphics -------------------------------------------------------------\n",
    "import matplotlib.pyplot as plt\n",
    "import seaborn as sns\n",
    "from matplotlib import style\n",
    "plt.style.use('tableau-colorblind10')\n",
    "# Mathematical functions -----------------------------------------------\n",
    "from scipy.stats import norm\n",
    "# Text processors ------------------------------------------------------\n",
    "import unicodedata\n",
    "import re\n",
    "import nltk\n",
    "from nltk.corpus import stopwords\n",
    "from nltk.tokenize import word_tokenize\n",
    "from wordcloud import WordCloud\n",
    "# Preprocessing --------------------------------------------------------\n",
    "from sklearn.model_selection import train_test_split\n",
    "from sklearn.pipeline import Pipeline\n",
    "from sklearn.compose import ColumnTransformer\n",
    "# Text modeling --------------------------------------------------------\n",
    "from sklearn.feature_extraction.text import CountVectorizer\n",
    "from sklearn.feature_extraction.text import TfidfVectorizer\n",
    "# Model creating -------------------------------------------------------\n",
    "from sklearn.naive_bayes import GaussianNB\n",
    "from sklearn.naive_bayes import MultinomialNB\n",
    "# Metrics --------------------------------------------------------------\n",
    "from sklearn.metrics import accuracy_score\n",
    "from sklearn.metrics import classification_report\n",
    "from sklearn.metrics import confusion_matrix\n",
    "from sklearn.metrics import plot_roc_curve\n",
    "from sklearn.metrics import ConfusionMatrixDisplay\n",
    "from sklearn.metrics import make_scorer\n",
    "# Custom functions -----------------------------------------------------\n",
    "# Se toma una fucnion creada en SRC\n",
    "from textpreprocessing import clean_stopwords \n"
   ]
  },
  {
   "cell_type": "code",
   "execution_count": 36,
   "metadata": {},
   "outputs": [],
   "source": [
    "# We'll use a collection of sentiments for text analysis as a dataset\n",
    "# This dataset was published in Saif M. Mohammad and Peter Turney. (2013), \n",
    "# ``Crowdsourcing a Word-Emotion Association Lexicon.'' \n",
    "# Computational Intelligence, 29(3): 436-465.\n",
    "# It's only for research and educational purposes.\n",
    "# URL: http://saifmohammad.com/WebPages/lexicons.html  \n",
    "nrc = pd.read_csv('/workspace/NLP/data/raw/NRC.csv', names=['word','sentiment','polarity'])\n",
    "nrc = nrc.query('polarity == 1')"
   ]
  },
  {
   "cell_type": "code",
   "execution_count": 38,
   "metadata": {},
   "outputs": [
    {
     "name": "stdout",
     "output_type": "stream",
     "text": [
      "<class 'pandas.core.frame.DataFrame'>\n",
      "RangeIndex: 20761 entries, 0 to 20760\n",
      "Data columns (total 8 columns):\n",
      " #   Column                   Non-Null Count  Dtype  \n",
      "---  ------                   --------------  -----  \n",
      " 0   source                   20761 non-null  object \n",
      " 1   id_str                   20761 non-null  int64  \n",
      " 2   text                     20761 non-null  object \n",
      " 3   created_at               20761 non-null  object \n",
      " 4   retweet_count            20761 non-null  int64  \n",
      " 5   in_reply_to_user_id_str  2442 non-null   float64\n",
      " 6   favorite_count           20761 non-null  int64  \n",
      " 7   is_retweet               20761 non-null  bool   \n",
      "dtypes: bool(1), float64(1), int64(3), object(3)\n",
      "memory usage: 1.1+ MB\n"
     ]
    }
   ],
   "source": [
    "# Step 1. Load the data\n",
    "# Data extracted from https://www.thetrumparchive.com\n",
    "# Data case: During the 2016 US presidential election, the candidate \n",
    "# Donald Trump used twitter to communicate with potential voters. \n",
    "# The campaign was during 2015-06-17 and 2016-11-08\n",
    "# We'll try to analyze these campaign tweets from iPhone and Android\n",
    "# Data description\n",
    "# source -> device of origin\n",
    "# id_str -> unique identifier\n",
    "# text -> tweet text content\n",
    "# created_at -> Date of creation, not including timezone\n",
    "# retweet_count -> Count of retweets (difusion)\n",
    "# in_reply_to_usr_id_str -> If it's a reply, grab the user id\n",
    "# favourite_count -> Count of users that liked the tweet\n",
    "# is_retweet -> If the post is a retweet  \n",
    "# 1.1 Open data and get a glimpse\n",
    "df_raw = pd.read_csv('/workspace/NLP/data/raw/trump_tweets (1).csv')\n",
    "df_raw.info()"
   ]
  },
  {
   "cell_type": "code",
   "execution_count": 39,
   "metadata": {},
   "outputs": [
    {
     "data": {
      "text/html": [
       "<div>\n",
       "<style scoped>\n",
       "    .dataframe tbody tr th:only-of-type {\n",
       "        vertical-align: middle;\n",
       "    }\n",
       "\n",
       "    .dataframe tbody tr th {\n",
       "        vertical-align: top;\n",
       "    }\n",
       "\n",
       "    .dataframe thead th {\n",
       "        text-align: right;\n",
       "    }\n",
       "</style>\n",
       "<table border=\"1\" class=\"dataframe\">\n",
       "  <thead>\n",
       "    <tr style=\"text-align: right;\">\n",
       "      <th></th>\n",
       "      <th>source</th>\n",
       "      <th>id_str</th>\n",
       "      <th>text</th>\n",
       "      <th>created_at</th>\n",
       "      <th>retweet_count</th>\n",
       "      <th>in_reply_to_user_id_str</th>\n",
       "      <th>favorite_count</th>\n",
       "      <th>is_retweet</th>\n",
       "    </tr>\n",
       "  </thead>\n",
       "  <tbody>\n",
       "    <tr>\n",
       "      <th>8100</th>\n",
       "      <td>Twitter Web Client</td>\n",
       "      <td>309304210636300288</td>\n",
       "      <td>@homeedmam I wish him the best of luck.</td>\n",
       "      <td>2013-03-06T14:07:25Z</td>\n",
       "      <td>0</td>\n",
       "      <td>NaN</td>\n",
       "      <td>0</td>\n",
       "      <td>False</td>\n",
       "    </tr>\n",
       "    <tr>\n",
       "      <th>13350</th>\n",
       "      <td>Twitter for Android</td>\n",
       "      <td>635058369431252992</td>\n",
       "      <td>Alabama was great last night, amazing people. ...</td>\n",
       "      <td>2015-08-22T11:58:08Z</td>\n",
       "      <td>3273</td>\n",
       "      <td>NaN</td>\n",
       "      <td>7551</td>\n",
       "      <td>False</td>\n",
       "    </tr>\n",
       "    <tr>\n",
       "      <th>3145</th>\n",
       "      <td>Twitter Web Client</td>\n",
       "      <td>220170240875700224</td>\n",
       "      <td>Great poll numbers for @MittRomney just out--h...</td>\n",
       "      <td>2012-07-03T15:00:50Z</td>\n",
       "      <td>137</td>\n",
       "      <td>NaN</td>\n",
       "      <td>25</td>\n",
       "      <td>False</td>\n",
       "    </tr>\n",
       "    <tr>\n",
       "      <th>3486</th>\n",
       "      <td>Twitter Web Client</td>\n",
       "      <td>199322476180815873</td>\n",
       "      <td>#CelebrityApprentice Boardrooms—can anything b...</td>\n",
       "      <td>2012-05-07T02:19:16Z</td>\n",
       "      <td>38</td>\n",
       "      <td>NaN</td>\n",
       "      <td>6</td>\n",
       "      <td>False</td>\n",
       "    </tr>\n",
       "    <tr>\n",
       "      <th>20391</th>\n",
       "      <td>Twitter for iPhone</td>\n",
       "      <td>838861512999649286</td>\n",
       "      <td>'President Trump Congratulates Exxon Mobil for...</td>\n",
       "      <td>2017-03-06T21:19:04Z</td>\n",
       "      <td>12846</td>\n",
       "      <td>NaN</td>\n",
       "      <td>70675</td>\n",
       "      <td>False</td>\n",
       "    </tr>\n",
       "    <tr>\n",
       "      <th>11024</th>\n",
       "      <td>Twitter for Android</td>\n",
       "      <td>484921289715376128</td>\n",
       "      <td>Do these very stupid politicians who got us in...</td>\n",
       "      <td>2014-07-04T04:46:59Z</td>\n",
       "      <td>87</td>\n",
       "      <td>NaN</td>\n",
       "      <td>105</td>\n",
       "      <td>False</td>\n",
       "    </tr>\n",
       "    <tr>\n",
       "      <th>19065</th>\n",
       "      <td>Twitter for iPhone</td>\n",
       "      <td>919313707355787264</td>\n",
       "      <td>The Democrats in the Southwest part of Virgini...</td>\n",
       "      <td>2017-10-14T21:27:22Z</td>\n",
       "      <td>16003</td>\n",
       "      <td>NaN</td>\n",
       "      <td>71175</td>\n",
       "      <td>False</td>\n",
       "    </tr>\n",
       "    <tr>\n",
       "      <th>13462</th>\n",
       "      <td>Twitter for Android</td>\n",
       "      <td>627841345789558788</td>\n",
       "      <td>I wish good luck to all of the Republican cand...</td>\n",
       "      <td>2015-08-02T14:00:16Z</td>\n",
       "      <td>6526</td>\n",
       "      <td>NaN</td>\n",
       "      <td>9636</td>\n",
       "      <td>False</td>\n",
       "    </tr>\n",
       "    <tr>\n",
       "      <th>4414</th>\n",
       "      <td>Twitter for Android</td>\n",
       "      <td>406400091092971520</td>\n",
       "      <td>I am in Miami at Trump National Doral. Just ga...</td>\n",
       "      <td>2013-11-29T12:31:46Z</td>\n",
       "      <td>42</td>\n",
       "      <td>NaN</td>\n",
       "      <td>68</td>\n",
       "      <td>False</td>\n",
       "    </tr>\n",
       "    <tr>\n",
       "      <th>10805</th>\n",
       "      <td>Twitter Web Client</td>\n",
       "      <td>496640871727906816</td>\n",
       "      <td>Doctors have already died treating Ebola http:...</td>\n",
       "      <td>2014-08-05T12:56:25Z</td>\n",
       "      <td>411</td>\n",
       "      <td>NaN</td>\n",
       "      <td>389</td>\n",
       "      <td>False</td>\n",
       "    </tr>\n",
       "  </tbody>\n",
       "</table>\n",
       "</div>"
      ],
      "text/plain": [
       "                    source              id_str  \\\n",
       "8100    Twitter Web Client  309304210636300288   \n",
       "13350  Twitter for Android  635058369431252992   \n",
       "3145    Twitter Web Client  220170240875700224   \n",
       "3486    Twitter Web Client  199322476180815873   \n",
       "20391   Twitter for iPhone  838861512999649286   \n",
       "11024  Twitter for Android  484921289715376128   \n",
       "19065   Twitter for iPhone  919313707355787264   \n",
       "13462  Twitter for Android  627841345789558788   \n",
       "4414   Twitter for Android  406400091092971520   \n",
       "10805   Twitter Web Client  496640871727906816   \n",
       "\n",
       "                                                    text  \\\n",
       "8100             @homeedmam I wish him the best of luck.   \n",
       "13350  Alabama was great last night, amazing people. ...   \n",
       "3145   Great poll numbers for @MittRomney just out--h...   \n",
       "3486   #CelebrityApprentice Boardrooms—can anything b...   \n",
       "20391  'President Trump Congratulates Exxon Mobil for...   \n",
       "11024  Do these very stupid politicians who got us in...   \n",
       "19065  The Democrats in the Southwest part of Virgini...   \n",
       "13462  I wish good luck to all of the Republican cand...   \n",
       "4414   I am in Miami at Trump National Doral. Just ga...   \n",
       "10805  Doctors have already died treating Ebola http:...   \n",
       "\n",
       "                 created_at  retweet_count  in_reply_to_user_id_str  \\\n",
       "8100   2013-03-06T14:07:25Z              0                      NaN   \n",
       "13350  2015-08-22T11:58:08Z           3273                      NaN   \n",
       "3145   2012-07-03T15:00:50Z            137                      NaN   \n",
       "3486   2012-05-07T02:19:16Z             38                      NaN   \n",
       "20391  2017-03-06T21:19:04Z          12846                      NaN   \n",
       "11024  2014-07-04T04:46:59Z             87                      NaN   \n",
       "19065  2017-10-14T21:27:22Z          16003                      NaN   \n",
       "13462  2015-08-02T14:00:16Z           6526                      NaN   \n",
       "4414   2013-11-29T12:31:46Z             42                      NaN   \n",
       "10805  2014-08-05T12:56:25Z            411                      NaN   \n",
       "\n",
       "       favorite_count  is_retweet  \n",
       "8100                0       False  \n",
       "13350            7551       False  \n",
       "3145               25       False  \n",
       "3486                6       False  \n",
       "20391           70675       False  \n",
       "11024             105       False  \n",
       "19065           71175       False  \n",
       "13462            9636       False  \n",
       "4414               68       False  \n",
       "10805             389       False  "
      ]
     },
     "execution_count": 39,
     "metadata": {},
     "output_type": "execute_result"
    }
   ],
   "source": [
    "# 1.1 Sample some observations\n",
    "df_raw.sample(10)"
   ]
  },
  {
   "cell_type": "code",
   "execution_count": 53,
   "metadata": {},
   "outputs": [],
   "source": [
    "# Step 2. Transform and wrangle the data\n",
    "# 2.1 Make a copy\n",
    "df_interim = df_raw.copy()"
   ]
  },
  {
   "cell_type": "code",
   "execution_count": 54,
   "metadata": {},
   "outputs": [],
   "source": [
    "# 2.2 Get rid of uninformative columns\n",
    "df_interim = df_interim.drop(['id_str','is_retweet','in_reply_to_user_id_str'], axis=1)"
   ]
  },
  {
   "cell_type": "code",
   "execution_count": 56,
   "metadata": {},
   "outputs": [],
   "source": [
    "# 2.3 Convert columns to the right format\n",
    "df_interim['created_at'] = df_interim['created_at'].astype('datetime64')\n",
    "df_interim['source'] = pd.Categorical(df_interim['source'])"
   ]
  },
  {
   "cell_type": "code",
   "execution_count": 57,
   "metadata": {},
   "outputs": [],
   "source": [
    "# 2.4 Filter dates for analysis\n",
    "df_interim = df_interim.loc[(df_interim['created_at'] >= '2015-06-17') \\\n",
    "    & (df_interim['created_at'] <= '2016-11-08')]"
   ]
  },
  {
   "cell_type": "code",
   "execution_count": 58,
   "metadata": {},
   "outputs": [],
   "source": [
    "# 2.5 Consider time is UTC, convert to EST, le quita 5 horas a la hora UTC\n",
    "df_interim['created_at'] +=pd.Timedelta(-5,unit='h')"
   ]
  },
  {
   "cell_type": "code",
   "execution_count": 60,
   "metadata": {},
   "outputs": [],
   "source": [
    "# 2.5 Filter source for analysis, vamos a usar solamente los origenes que viene iphon o android\n",
    "df_interim = df_interim.loc[(df_interim['source'].str.contains('iPhone')) \\\n",
    "    | (df_interim['source'].str.contains('Android'))]\n",
    "df_interim['source'] = df_interim['source'].cat.remove_unused_categories()"
   ]
  },
  {
   "cell_type": "code",
   "execution_count": 62,
   "metadata": {},
   "outputs": [],
   "source": [
    "# 2.5 Save and create a copy for analysis\n",
    "df_interim.to_csv('../data/interim/trump_tweets.csv', index=False)\n",
    "df = df_interim.copy()"
   ]
  },
  {
   "cell_type": "code",
   "execution_count": 63,
   "metadata": {},
   "outputs": [
    {
     "name": "stdout",
     "output_type": "stream",
     "text": [
      "<class 'pandas.core.frame.DataFrame'>\n",
      "Int64Index: 3946 entries, 12072 to 18506\n",
      "Data columns (total 5 columns):\n",
      " #   Column          Non-Null Count  Dtype         \n",
      "---  ------          --------------  -----         \n",
      " 0   source          3946 non-null   category      \n",
      " 1   text            3946 non-null   object        \n",
      " 2   created_at      3946 non-null   datetime64[ns]\n",
      " 3   retweet_count   3946 non-null   int64         \n",
      " 4   favorite_count  3946 non-null   int64         \n",
      "dtypes: category(1), datetime64[ns](1), int64(2), object(1)\n",
      "memory usage: 158.0+ KB\n"
     ]
    }
   ],
   "source": [
    "# Step 3. Perform EDA\n",
    "# 3.1 Get basic info\n",
    "df.info()"
   ]
  },
  {
   "cell_type": "code",
   "execution_count": null,
   "metadata": {},
   "outputs": [],
   "source": [
    "# 3.2 Get a sample\n",
    "df.sample(10)"
   ]
  },
  {
   "cell_type": "code",
   "execution_count": null,
   "metadata": {},
   "outputs": [],
   "source": [
    "# 3.3 Describe numerical and datetime data\n",
    "df.describe(datetime_is_numeric=True)"
   ]
  },
  {
   "cell_type": "code",
   "execution_count": null,
   "metadata": {},
   "outputs": [],
   "source": [
    "# 3.4 Describe categorical data\n",
    "df['source'].value_counts()"
   ]
  },
  {
   "cell_type": "code",
   "execution_count": null,
   "metadata": {},
   "outputs": [],
   "source": [
    "# 3.5 Get histograms for numerical data"
   ]
  },
  {
   "cell_type": "code",
   "execution_count": null,
   "metadata": {},
   "outputs": [],
   "source": [
    "# 3.6 Make a plot of tweets frequence rate by source"
   ]
  },
  {
   "cell_type": "code",
   "execution_count": null,
   "metadata": {},
   "outputs": [],
   "source": [
    "# 3.7 Get a glimpse of the most retweeted tweets"
   ]
  },
  {
   "cell_type": "code",
   "execution_count": null,
   "metadata": {},
   "outputs": [],
   "source": [
    "# 3.8 Get a glimpse of the most liked tweets"
   ]
  },
  {
   "cell_type": "code",
   "execution_count": null,
   "metadata": {},
   "outputs": [],
   "source": [
    "# 3.9 Let's get a glimpse of common words in the tweets' text"
   ]
  },
  {
   "cell_type": "code",
   "execution_count": null,
   "metadata": {},
   "outputs": [],
   "source": [
    "# 3.10 Process text to extract stopwords"
   ]
  },
  {
   "cell_type": "code",
   "execution_count": null,
   "metadata": {},
   "outputs": [],
   "source": [
    "# 3.11 Extract urls\n",
    "url_pat = 'https://t.co/[A-Za-z\\d]+|&amp;'\n"
   ]
  },
  {
   "cell_type": "code",
   "execution_count": null,
   "metadata": {},
   "outputs": [],
   "source": [
    "# 3.12 Extract special characters\n"
   ]
  },
  {
   "cell_type": "code",
   "execution_count": null,
   "metadata": {},
   "outputs": [],
   "source": [
    "# 3.13 Extract numbers\n"
   ]
  },
  {
   "cell_type": "code",
   "execution_count": null,
   "metadata": {},
   "outputs": [],
   "source": [
    "# 3.14 See the results\n"
   ]
  },
  {
   "cell_type": "code",
   "execution_count": null,
   "metadata": {},
   "outputs": [],
   "source": [
    "# 3.15 Let's see a wordcloud\n"
   ]
  }
 ],
 "metadata": {
  "kernelspec": {
   "display_name": "Python 3.8.13 64-bit ('3.8.13')",
   "language": "python",
   "name": "python3"
  },
  "language_info": {
   "codemirror_mode": {
    "name": "ipython",
    "version": 3
   },
   "file_extension": ".py",
   "mimetype": "text/x-python",
   "name": "python",
   "nbconvert_exporter": "python",
   "pygments_lexer": "ipython3",
   "version": "3.8.13"
  },
  "orig_nbformat": 4,
  "vscode": {
   "interpreter": {
    "hash": "110cc1dee26208153f2972f08a2ad52b6a56238dc66d48e87fb757ef2996db56"
   }
  }
 },
 "nbformat": 4,
 "nbformat_minor": 2
}
